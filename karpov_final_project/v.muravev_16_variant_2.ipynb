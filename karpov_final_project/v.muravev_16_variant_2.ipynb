{
 "cells": [
  {
   "cell_type": "markdown",
   "metadata": {},
   "source": [
    "# Проект: вариант 2"
   ]
  },
  {
   "cell_type": "markdown",
   "metadata": {},
   "source": [
    "## Задание 1. \n",
    "\n",
    "**A/B–тестирование**\n",
    "\n",
    "**1.1 Условие**\n",
    "\n",
    "Одной из основных задач аналитика в нашей команде является корректное проведение экспериментов. Для этого мы применяем метод A/B–тестирования. В ходе тестирования одной гипотезы целевой группе была предложена новая механика оплаты услуг на сайте, у контрольной группы оставалась базовая механика. В качестве задания Вам необходимо проанализировать итоги эксперимента и сделать вывод, стоит ли запускать новую механику оплаты на всех пользователей.\n",
    "\n",
    "**1.2 Входные данные**\n",
    "\n",
    "В качестве входных данных Вы имеете 4 csv-файла:\n",
    "\n",
    "- *groups.csv* - файл с информацией о принадлежности пользователя к контрольной или экспериментальной группе (А – контроль, B – целевая группа) \n",
    "- *groups_add.csv* - дополнительный файл с пользователями, который вам прислали спустя 2 дня после передачи данных\n",
    "- *active_studs.csv* - файл с информацией о пользователях, которые зашли на платформу в дни проведения эксперимента. \n",
    "- *checks.csv* - файл с информацией об оплатах пользователей в дни проведения эксперимента. \n",
    "\n",
    "\n",
    "**1.3 Вопросы**\n",
    "\n",
    "Предлагаем Вам ответить на следующие вопросы:\n",
    "\n",
    "- На какие метрики Вы смотрите в ходе анализа и почему?\n",
    "- Имеются ли различия в показателях и с чем они могут быть связаны?\n",
    "- Являются ли эти различия статистически значимыми?\n",
    "- Стоит ли запускать новую механику на всех пользователей?\n",
    "\n",
    "Данный список вопросов не является обязательным, и Вы можете при своём ответе опираться на собственный план.\n",
    "\n",
    "**1.4 Требования к ответу**\n",
    "\n",
    "При выполнении тестового задания необходимо использовать язык программирования Python. \n",
    "В файле обязательно должны быть комментарии к тем действиям, которые Вы выполняете с данными. \n",
    "Файл должен представлять собой законченный отчёт с выводами, сделанными в ходе исследования."
   ]
  },
  {
   "cell_type": "markdown",
   "metadata": {},
   "source": [
    "## Задание 2.\n",
    "\n",
    "**SQL**\n",
    "\n",
    "**2.1 Очень усердные ученики.**\n",
    "\n",
    "**2.1.1 Условие**\n",
    "\n",
    "Образовательные курсы состоят из различных уроков, каждый из которых состоит из нескольких маленьких заданий. Каждое такое маленькое задание называется \"горошиной\".\n",
    "\n",
    "Назовём очень усердным учеником того пользователя, который хотя бы раз за текущий месяц правильно решил 20 горошин за час.\n",
    "\n",
    "**2.1.2 Задача**\n",
    "\n",
    "Дана таблица peas:\n",
    "\n",
    "|Название атрибута|Тип атрибута|Смысловое значение|\n",
    "|---|---|---|\n",
    "|st_id|int|ID ученика|\n",
    "|timest|timestamp|Время решения карточки|\n",
    "|correct|bool|Правильно ли решена горошина?|\n",
    "|subject|text|Дисциплина, в которой находится горошина|\n",
    "\n",
    "Необходимо написать оптимальный запрос, который даст информацию о количестве очень усердных студентов за март 2020 года.\n",
    "\n",
    "NB! Под усердным студентом мы понимаем студента, который правильно решил 20 задач за текущий месяц.\n",
    "\n",
    "**2.2 Оптимизация воронки**\n",
    "\n",
    "**2.2.2 Задача**\n",
    "\n",
    "Дана таблицы: peas (см. выше), studs:\n",
    "\n",
    "| Название атрибута  |Тип атрибута  |Смысловое значение |\n",
    "| -------------------|--------------|-------------------|\n",
    "|st_id|int|ID ученика|\n",
    "|test_grp|text|Метка ученика в данном эксперименте|\n",
    "\n",
    "и checks:\n",
    "\n",
    "|Название атрибута|Тип атрибута|Смысловое значение|\n",
    "| -------------------|--------------|-------------------|\n",
    "|st_id|int|ID ученика|\n",
    "|sale_time|timestamp|Время покупки|\n",
    "|money|int|Цена, по которой приобрели данный курс|\n",
    "|subject|text|Дисциплина, на которую приобрели полный доступ|\n",
    "\n",
    "Необходимо в одном запросе выгрузить следующую информацию о группах пользователей:\n",
    "* ARPU \n",
    "* ARPAU \n",
    "* CR в покупку \n",
    "* СR активного пользователя в покупку \n",
    "* CR пользователя из активности по математике (subject = ’math’) в покупку курса по математике.\n",
    "\n",
    "Все данные находятся в табличном виде в Clickhouse"
   ]
  },
  {
   "cell_type": "markdown",
   "metadata": {},
   "source": [
    "## Задание 3. \n",
    "\n",
    "**Python**\n",
    "\n",
    "**3.1 Задача**\n",
    "\n",
    "Реализуйте функцию, которая будет автоматически подгружать информацию из дополнительного файла groups_add.csv (заголовки могут отличаться) и на основании дополнительных параметров пересчитывать метрики.\n",
    "Реализуйте функцию, которая будет строить графики по получаемым метрикам."
   ]
  },
  {
   "cell_type": "markdown",
   "metadata": {},
   "source": [
    "---------------------------------------------"
   ]
  },
  {
   "cell_type": "markdown",
   "metadata": {},
   "source": [
    "## Задание 1"
   ]
  },
  {
   "cell_type": "code",
   "execution_count": 1,
   "metadata": {},
   "outputs": [],
   "source": [
    "# Загружаем необходимые библиотеки\n",
    "import pandas as pd\n",
    "import numpy as np\n",
    "import seaborn as sns\n",
    "\n",
    "from scipy.stats import norm\n",
    "from scipy.stats import chi2_contingency\n",
    "from tqdm.auto import tqdm\n",
    "from scipy.stats import shapiro\n",
    "\n",
    "import matplotlib.pyplot as plt\n",
    "plt.style.use('ggplot')"
   ]
  },
  {
   "cell_type": "code",
   "execution_count": 2,
   "metadata": {},
   "outputs": [],
   "source": [
    "# Считываем данные\n",
    "active_studs = pd.read_csv('Проект_2_active_studs.csv')\n",
    "checks = pd.read_csv('Проект_2_checks.csv', sep=';')\n",
    "groups = pd.read_csv('Проект_2_groups.csv', sep=';')\n",
    "group_add = pd.read_csv('Проект_2_group_add.csv')"
   ]
  },
  {
   "cell_type": "code",
   "execution_count": 3,
   "metadata": {},
   "outputs": [],
   "source": [
    "# Посмотрим на данные. Проверим, есть ли пропуски и повторы."
   ]
  },
  {
   "cell_type": "code",
   "execution_count": 4,
   "metadata": {},
   "outputs": [],
   "source": [
    "def print_info(df):\n",
    "    print('--' * 50)\n",
    "    print(df.head(3))\n",
    "    print('--' * 50)\n",
    "    df.info()\n",
    "    print('--' * 50)\n",
    "    print('Пропуски в данных')\n",
    "    print(df.isna().sum())\n",
    "    print('--' * 50)\n",
    "    print('Количество уникальных значений')\n",
    "    print(df.nunique())\n",
    "    print('--' * 50)\n",
    "    print('Полные дубликаты в данных')\n",
    "    print(df.duplicated().sum())\n",
    "    print('--' * 50)"
   ]
  },
  {
   "cell_type": "code",
   "execution_count": 5,
   "metadata": {},
   "outputs": [
    {
     "name": "stdout",
     "output_type": "stream",
     "text": [
      "----------------------------------------------------------------------------------------------------\n",
      "   student_id\n",
      "0      581585\n",
      "1     5723133\n",
      "2     3276743\n",
      "----------------------------------------------------------------------------------------------------\n",
      "<class 'pandas.core.frame.DataFrame'>\n",
      "RangeIndex: 8341 entries, 0 to 8340\n",
      "Data columns (total 1 columns):\n",
      " #   Column      Non-Null Count  Dtype\n",
      "---  ------      --------------  -----\n",
      " 0   student_id  8341 non-null   int64\n",
      "dtypes: int64(1)\n",
      "memory usage: 65.3 KB\n",
      "----------------------------------------------------------------------------------------------------\n",
      "Пропуски в данных\n",
      "student_id    0\n",
      "dtype: int64\n",
      "----------------------------------------------------------------------------------------------------\n",
      "Количество уникальных значений\n",
      "student_id    8341\n",
      "dtype: int64\n",
      "----------------------------------------------------------------------------------------------------\n",
      "Полные дубликаты в данных\n",
      "0\n",
      "----------------------------------------------------------------------------------------------------\n"
     ]
    }
   ],
   "source": [
    "print_info(active_studs)"
   ]
  },
  {
   "cell_type": "code",
   "execution_count": 6,
   "metadata": {
    "scrolled": true
   },
   "outputs": [
    {
     "name": "stdout",
     "output_type": "stream",
     "text": [
      "----------------------------------------------------------------------------------------------------\n",
      "   student_id    rev\n",
      "0        1627  990.0\n",
      "1        3185  690.0\n",
      "2       25973  690.0\n",
      "----------------------------------------------------------------------------------------------------\n",
      "<class 'pandas.core.frame.DataFrame'>\n",
      "RangeIndex: 541 entries, 0 to 540\n",
      "Data columns (total 2 columns):\n",
      " #   Column      Non-Null Count  Dtype  \n",
      "---  ------      --------------  -----  \n",
      " 0   student_id  541 non-null    int64  \n",
      " 1   rev         541 non-null    float64\n",
      "dtypes: float64(1), int64(1)\n",
      "memory usage: 8.6 KB\n",
      "----------------------------------------------------------------------------------------------------\n",
      "Пропуски в данных\n",
      "student_id    0\n",
      "rev           0\n",
      "dtype: int64\n",
      "----------------------------------------------------------------------------------------------------\n",
      "Количество уникальных значений\n",
      "student_id    541\n",
      "rev            39\n",
      "dtype: int64\n",
      "----------------------------------------------------------------------------------------------------\n",
      "Полные дубликаты в данных\n",
      "0\n",
      "----------------------------------------------------------------------------------------------------\n"
     ]
    }
   ],
   "source": [
    "print_info(checks)"
   ]
  },
  {
   "cell_type": "code",
   "execution_count": 7,
   "metadata": {},
   "outputs": [
    {
     "name": "stdout",
     "output_type": "stream",
     "text": [
      "----------------------------------------------------------------------------------------------------\n",
      "     id grp\n",
      "0  1489   B\n",
      "1  1627   A\n",
      "2  1768   B\n",
      "----------------------------------------------------------------------------------------------------\n",
      "<class 'pandas.core.frame.DataFrame'>\n",
      "RangeIndex: 74484 entries, 0 to 74483\n",
      "Data columns (total 2 columns):\n",
      " #   Column  Non-Null Count  Dtype \n",
      "---  ------  --------------  ----- \n",
      " 0   id      74484 non-null  int64 \n",
      " 1   grp     74484 non-null  object\n",
      "dtypes: int64(1), object(1)\n",
      "memory usage: 1.1+ MB\n",
      "----------------------------------------------------------------------------------------------------\n",
      "Пропуски в данных\n",
      "id     0\n",
      "grp    0\n",
      "dtype: int64\n",
      "----------------------------------------------------------------------------------------------------\n",
      "Количество уникальных значений\n",
      "id     74484\n",
      "grp        2\n",
      "dtype: int64\n",
      "----------------------------------------------------------------------------------------------------\n",
      "Полные дубликаты в данных\n",
      "0\n",
      "----------------------------------------------------------------------------------------------------\n"
     ]
    }
   ],
   "source": [
    "print_info(groups)"
   ]
  },
  {
   "cell_type": "code",
   "execution_count": 8,
   "metadata": {},
   "outputs": [
    {
     "name": "stdout",
     "output_type": "stream",
     "text": [
      "----------------------------------------------------------------------------------------------------\n",
      "        id grp\n",
      "0  5694584   B\n",
      "1  5694830   B\n",
      "2  5695057   B\n",
      "----------------------------------------------------------------------------------------------------\n",
      "<class 'pandas.core.frame.DataFrame'>\n",
      "RangeIndex: 92 entries, 0 to 91\n",
      "Data columns (total 2 columns):\n",
      " #   Column  Non-Null Count  Dtype \n",
      "---  ------  --------------  ----- \n",
      " 0   id      92 non-null     int64 \n",
      " 1   grp     92 non-null     object\n",
      "dtypes: int64(1), object(1)\n",
      "memory usage: 1.6+ KB\n",
      "----------------------------------------------------------------------------------------------------\n",
      "Пропуски в данных\n",
      "id     0\n",
      "grp    0\n",
      "dtype: int64\n",
      "----------------------------------------------------------------------------------------------------\n",
      "Количество уникальных значений\n",
      "id     92\n",
      "grp     2\n",
      "dtype: int64\n",
      "----------------------------------------------------------------------------------------------------\n",
      "Полные дубликаты в данных\n",
      "0\n",
      "----------------------------------------------------------------------------------------------------\n"
     ]
    }
   ],
   "source": [
    "print_info(group_add)"
   ]
  },
  {
   "cell_type": "markdown",
   "metadata": {},
   "source": [
    "Посмотрим на размер тестовой и контрольной группы\n",
    "\n",
    "А – контроль, B – целевая группа"
   ]
  },
  {
   "cell_type": "code",
   "execution_count": 9,
   "metadata": {
    "scrolled": true
   },
   "outputs": [
    {
     "data": {
      "text/plain": [
       "B    59813\n",
       "A    14671\n",
       "Name: grp, dtype: int64"
      ]
     },
     "execution_count": 9,
     "metadata": {},
     "output_type": "execute_result"
    }
   ],
   "source": [
    "groups.grp.value_counts()"
   ]
  },
  {
   "cell_type": "code",
   "execution_count": 10,
   "metadata": {
    "scrolled": false
   },
   "outputs": [
    {
     "data": {
      "text/plain": [
       "B    70\n",
       "A    22\n",
       "Name: grp, dtype: int64"
      ]
     },
     "execution_count": 10,
     "metadata": {},
     "output_type": "execute_result"
    }
   ],
   "source": [
    "group_add.grp.value_counts()"
   ]
  },
  {
   "cell_type": "markdown",
   "metadata": {},
   "source": [
    "Размер тестовой группы превышает размер контрольной группы. \n",
    "Обычно в датасетах все наоборот - нововведения тестируют на меньшем количестве пользоваталей."
   ]
  },
  {
   "cell_type": "code",
   "execution_count": 11,
   "metadata": {},
   "outputs": [
    {
     "data": {
      "text/plain": [
       "(392, 2)"
      ]
     },
     "execution_count": 11,
     "metadata": {},
     "output_type": "execute_result"
    }
   ],
   "source": [
    "checks.merge(active_studs).shape"
   ]
  },
  {
   "cell_type": "code",
   "execution_count": 12,
   "metadata": {},
   "outputs": [
    {
     "data": {
      "text/plain": [
       "(540, 4)"
      ]
     },
     "execution_count": 12,
     "metadata": {},
     "output_type": "execute_result"
    }
   ],
   "source": [
    "checks.merge(groups, left_on='student_id', right_on='id').shape"
   ]
  },
  {
   "cell_type": "markdown",
   "metadata": {},
   "source": [
    "Из объединений таблиц выше видим, что в таблице groups больше активных пользоваталей, чем в active_studs.\n",
    "\n",
    "Возможно это тоже какая-то ошибка. Не все пользователи из checks(совершили покупку) вошли в таблицу active_studs(зашли на платформу).\n",
    "\n",
    "\n",
    "Далее при расчете метрик мы будем исходить из того, что в таблице active_studs содержится информация о пользователях, которые зашли на платформу в дни проведения эксперимента"
   ]
  },
  {
   "cell_type": "markdown",
   "metadata": {},
   "source": [
    "------\n",
    "Для имеющихся данных будем смотреть и сравнивать следющие показатели:\n",
    "\n",
    "* __CR в контрольной и тестовой группе__\n",
    "* __средний чек в контрольной и тестовой группе__"
   ]
  },
  {
   "cell_type": "markdown",
   "metadata": {},
   "source": [
    "К таблице active_studs с данными активных пользователей добавим информацию groups о принадлежности к тестовой и контрольной группе. Используем inner join, чтобы остались только id из контрольной и тестовой групп.\n",
    "\n",
    "Далее добавим информацию о совершенных покупках checks. \n",
    "\n",
    "Если не было покупок, то заполним пропуски нулями."
   ]
  },
  {
   "cell_type": "code",
   "execution_count": 13,
   "metadata": {},
   "outputs": [],
   "source": [
    "df_for_metrics = active_studs.merge(groups, left_on='student_id', right_on='id')[['id', 'grp']]\\\n",
    "    .merge(checks, how='left', left_on='id', right_on='student_id').drop(columns='student_id').fillna(0)"
   ]
  },
  {
   "cell_type": "markdown",
   "metadata": {},
   "source": [
    "Добавим колонку с информацией о том, совершил ли пользователь покупку или нет.\n",
    "\n",
    "* 1 - совершил покупку\n",
    "* 0 - не делал покупку"
   ]
  },
  {
   "cell_type": "code",
   "execution_count": 14,
   "metadata": {},
   "outputs": [],
   "source": [
    "df_for_metrics['purchase'] = np.where(df_for_metrics.rev > 0, 1, 0)"
   ]
  },
  {
   "cell_type": "code",
   "execution_count": 15,
   "metadata": {},
   "outputs": [
    {
     "data": {
      "text/html": [
       "<div>\n",
       "<style scoped>\n",
       "    .dataframe tbody tr th:only-of-type {\n",
       "        vertical-align: middle;\n",
       "    }\n",
       "\n",
       "    .dataframe tbody tr th {\n",
       "        vertical-align: top;\n",
       "    }\n",
       "\n",
       "    .dataframe thead th {\n",
       "        text-align: right;\n",
       "    }\n",
       "</style>\n",
       "<table border=\"1\" class=\"dataframe\">\n",
       "  <thead>\n",
       "    <tr style=\"text-align: right;\">\n",
       "      <th></th>\n",
       "      <th>id</th>\n",
       "      <th>grp</th>\n",
       "      <th>rev</th>\n",
       "      <th>purchase</th>\n",
       "    </tr>\n",
       "  </thead>\n",
       "  <tbody>\n",
       "    <tr>\n",
       "      <th>0</th>\n",
       "      <td>581585</td>\n",
       "      <td>A</td>\n",
       "      <td>0.0</td>\n",
       "      <td>0</td>\n",
       "    </tr>\n",
       "    <tr>\n",
       "      <th>1</th>\n",
       "      <td>3276743</td>\n",
       "      <td>B</td>\n",
       "      <td>0.0</td>\n",
       "      <td>0</td>\n",
       "    </tr>\n",
       "    <tr>\n",
       "      <th>2</th>\n",
       "      <td>4238589</td>\n",
       "      <td>A</td>\n",
       "      <td>0.0</td>\n",
       "      <td>0</td>\n",
       "    </tr>\n",
       "    <tr>\n",
       "      <th>3</th>\n",
       "      <td>4475369</td>\n",
       "      <td>B</td>\n",
       "      <td>0.0</td>\n",
       "      <td>0</td>\n",
       "    </tr>\n",
       "    <tr>\n",
       "      <th>4</th>\n",
       "      <td>5481015</td>\n",
       "      <td>B</td>\n",
       "      <td>0.0</td>\n",
       "      <td>0</td>\n",
       "    </tr>\n",
       "    <tr>\n",
       "      <th>...</th>\n",
       "      <td>...</td>\n",
       "      <td>...</td>\n",
       "      <td>...</td>\n",
       "      <td>...</td>\n",
       "    </tr>\n",
       "    <tr>\n",
       "      <th>8323</th>\n",
       "      <td>1794344</td>\n",
       "      <td>B</td>\n",
       "      <td>0.0</td>\n",
       "      <td>0</td>\n",
       "    </tr>\n",
       "    <tr>\n",
       "      <th>8324</th>\n",
       "      <td>296883</td>\n",
       "      <td>B</td>\n",
       "      <td>0.0</td>\n",
       "      <td>0</td>\n",
       "    </tr>\n",
       "    <tr>\n",
       "      <th>8325</th>\n",
       "      <td>3598448</td>\n",
       "      <td>B</td>\n",
       "      <td>0.0</td>\n",
       "      <td>0</td>\n",
       "    </tr>\n",
       "    <tr>\n",
       "      <th>8326</th>\n",
       "      <td>3610547</td>\n",
       "      <td>B</td>\n",
       "      <td>290.0</td>\n",
       "      <td>1</td>\n",
       "    </tr>\n",
       "    <tr>\n",
       "      <th>8327</th>\n",
       "      <td>205705</td>\n",
       "      <td>B</td>\n",
       "      <td>0.0</td>\n",
       "      <td>0</td>\n",
       "    </tr>\n",
       "  </tbody>\n",
       "</table>\n",
       "<p>8328 rows × 4 columns</p>\n",
       "</div>"
      ],
      "text/plain": [
       "           id grp    rev  purchase\n",
       "0      581585   A    0.0         0\n",
       "1     3276743   B    0.0         0\n",
       "2     4238589   A    0.0         0\n",
       "3     4475369   B    0.0         0\n",
       "4     5481015   B    0.0         0\n",
       "...       ...  ..    ...       ...\n",
       "8323  1794344   B    0.0         0\n",
       "8324   296883   B    0.0         0\n",
       "8325  3598448   B    0.0         0\n",
       "8326  3610547   B  290.0         1\n",
       "8327   205705   B    0.0         0\n",
       "\n",
       "[8328 rows x 4 columns]"
      ]
     },
     "execution_count": 15,
     "metadata": {},
     "output_type": "execute_result"
    }
   ],
   "source": [
    "df_for_metrics"
   ]
  },
  {
   "cell_type": "code",
   "execution_count": 16,
   "metadata": {},
   "outputs": [],
   "source": [
    "# Создадим датафрейм с метриками: конверсия, средняя выручка на покупателя, средняя выручка на платящего покупателя\n",
    "\n",
    "metrics = df_for_metrics.groupby('grp', as_index=False) \\\n",
    "    .agg({'id': 'count', 'purchase': ['sum', 'mean'], 'rev': ['sum', 'mean']})\n",
    "metrics.columns = ['grp', 'count_of_users', 'paying_users', 'cr', 'revenue', 'ARPU']\n",
    "metrics['cr'] = metrics['cr'].mul(100)\n",
    "metrics['ARPPU'] = metrics['revenue'] / metrics['paying_users']"
   ]
  },
  {
   "cell_type": "code",
   "execution_count": 17,
   "metadata": {},
   "outputs": [
    {
     "data": {
      "text/html": [
       "<div>\n",
       "<style scoped>\n",
       "    .dataframe tbody tr th:only-of-type {\n",
       "        vertical-align: middle;\n",
       "    }\n",
       "\n",
       "    .dataframe tbody tr th {\n",
       "        vertical-align: top;\n",
       "    }\n",
       "\n",
       "    .dataframe thead th {\n",
       "        text-align: right;\n",
       "    }\n",
       "</style>\n",
       "<table border=\"1\" class=\"dataframe\">\n",
       "  <thead>\n",
       "    <tr style=\"text-align: right;\">\n",
       "      <th></th>\n",
       "      <th>grp</th>\n",
       "      <th>count_of_users</th>\n",
       "      <th>paying_users</th>\n",
       "      <th>cr</th>\n",
       "      <th>revenue</th>\n",
       "      <th>ARPU</th>\n",
       "      <th>ARPPU</th>\n",
       "    </tr>\n",
       "  </thead>\n",
       "  <tbody>\n",
       "    <tr>\n",
       "      <th>0</th>\n",
       "      <td>A</td>\n",
       "      <td>1535</td>\n",
       "      <td>78</td>\n",
       "      <td>5.081433</td>\n",
       "      <td>72820.0000</td>\n",
       "      <td>47.439739</td>\n",
       "      <td>933.589744</td>\n",
       "    </tr>\n",
       "    <tr>\n",
       "      <th>1</th>\n",
       "      <td>B</td>\n",
       "      <td>6793</td>\n",
       "      <td>313</td>\n",
       "      <td>4.607684</td>\n",
       "      <td>393074.0035</td>\n",
       "      <td>57.864567</td>\n",
       "      <td>1255.827487</td>\n",
       "    </tr>\n",
       "  </tbody>\n",
       "</table>\n",
       "</div>"
      ],
      "text/plain": [
       "  grp  count_of_users  paying_users        cr      revenue       ARPU  \\\n",
       "0   A            1535            78  5.081433   72820.0000  47.439739   \n",
       "1   B            6793           313  4.607684  393074.0035  57.864567   \n",
       "\n",
       "         ARPPU  \n",
       "0   933.589744  \n",
       "1  1255.827487  "
      ]
     },
     "execution_count": 17,
     "metadata": {},
     "output_type": "execute_result"
    }
   ],
   "source": [
    "metrics"
   ]
  },
  {
   "cell_type": "markdown",
   "metadata": {},
   "source": [
    "------------\n",
    "\n",
    "1) C помощью критерия хи квадрат проверим, есть ли зависимости совершения покупок и группы пользователей (наличие покупателя в тестовой и контрольной группах).\n",
    "\n",
    "2) Проверим являются ли отличия в величине средней покупки статистически значимыми\n",
    "\n",
    "--------"
   ]
  },
  {
   "cell_type": "code",
   "execution_count": 18,
   "metadata": {},
   "outputs": [],
   "source": [
    "df_for_metrics['purchase'] = np.where(df_for_metrics.rev > 0, 'buy', 'not_buy')"
   ]
  },
  {
   "cell_type": "code",
   "execution_count": 19,
   "metadata": {
    "scrolled": false
   },
   "outputs": [
    {
     "data": {
      "text/html": [
       "<div>\n",
       "<style scoped>\n",
       "    .dataframe tbody tr th:only-of-type {\n",
       "        vertical-align: middle;\n",
       "    }\n",
       "\n",
       "    .dataframe tbody tr th {\n",
       "        vertical-align: top;\n",
       "    }\n",
       "\n",
       "    .dataframe thead th {\n",
       "        text-align: right;\n",
       "    }\n",
       "</style>\n",
       "<table border=\"1\" class=\"dataframe\">\n",
       "  <thead>\n",
       "    <tr style=\"text-align: right;\">\n",
       "      <th></th>\n",
       "      <th>id</th>\n",
       "      <th>grp</th>\n",
       "      <th>rev</th>\n",
       "      <th>purchase</th>\n",
       "    </tr>\n",
       "  </thead>\n",
       "  <tbody>\n",
       "    <tr>\n",
       "      <th>0</th>\n",
       "      <td>581585</td>\n",
       "      <td>A</td>\n",
       "      <td>0.0</td>\n",
       "      <td>not_buy</td>\n",
       "    </tr>\n",
       "    <tr>\n",
       "      <th>1</th>\n",
       "      <td>3276743</td>\n",
       "      <td>B</td>\n",
       "      <td>0.0</td>\n",
       "      <td>not_buy</td>\n",
       "    </tr>\n",
       "    <tr>\n",
       "      <th>2</th>\n",
       "      <td>4238589</td>\n",
       "      <td>A</td>\n",
       "      <td>0.0</td>\n",
       "      <td>not_buy</td>\n",
       "    </tr>\n",
       "    <tr>\n",
       "      <th>3</th>\n",
       "      <td>4475369</td>\n",
       "      <td>B</td>\n",
       "      <td>0.0</td>\n",
       "      <td>not_buy</td>\n",
       "    </tr>\n",
       "    <tr>\n",
       "      <th>4</th>\n",
       "      <td>5481015</td>\n",
       "      <td>B</td>\n",
       "      <td>0.0</td>\n",
       "      <td>not_buy</td>\n",
       "    </tr>\n",
       "  </tbody>\n",
       "</table>\n",
       "</div>"
      ],
      "text/plain": [
       "        id grp  rev purchase\n",
       "0   581585   A  0.0  not_buy\n",
       "1  3276743   B  0.0  not_buy\n",
       "2  4238589   A  0.0  not_buy\n",
       "3  4475369   B  0.0  not_buy\n",
       "4  5481015   B  0.0  not_buy"
      ]
     },
     "execution_count": 19,
     "metadata": {},
     "output_type": "execute_result"
    }
   ],
   "source": [
    "df_for_metrics.head()"
   ]
  },
  {
   "cell_type": "code",
   "execution_count": 20,
   "metadata": {},
   "outputs": [
    {
     "data": {
      "text/html": [
       "<div>\n",
       "<style scoped>\n",
       "    .dataframe tbody tr th:only-of-type {\n",
       "        vertical-align: middle;\n",
       "    }\n",
       "\n",
       "    .dataframe tbody tr th {\n",
       "        vertical-align: top;\n",
       "    }\n",
       "\n",
       "    .dataframe thead th {\n",
       "        text-align: right;\n",
       "    }\n",
       "</style>\n",
       "<table border=\"1\" class=\"dataframe\">\n",
       "  <thead>\n",
       "    <tr style=\"text-align: right;\">\n",
       "      <th>purchase</th>\n",
       "      <th>buy</th>\n",
       "      <th>not_buy</th>\n",
       "    </tr>\n",
       "    <tr>\n",
       "      <th>grp</th>\n",
       "      <th></th>\n",
       "      <th></th>\n",
       "    </tr>\n",
       "  </thead>\n",
       "  <tbody>\n",
       "    <tr>\n",
       "      <th>A</th>\n",
       "      <td>78</td>\n",
       "      <td>1457</td>\n",
       "    </tr>\n",
       "    <tr>\n",
       "      <th>B</th>\n",
       "      <td>313</td>\n",
       "      <td>6480</td>\n",
       "    </tr>\n",
       "  </tbody>\n",
       "</table>\n",
       "</div>"
      ],
      "text/plain": [
       "purchase  buy  not_buy\n",
       "grp                   \n",
       "A          78     1457\n",
       "B         313     6480"
      ]
     },
     "execution_count": 20,
     "metadata": {},
     "output_type": "execute_result"
    }
   ],
   "source": [
    "pd.crosstab(df_for_metrics.grp, df_for_metrics.purchase)"
   ]
  },
  {
   "cell_type": "code",
   "execution_count": 21,
   "metadata": {
    "scrolled": true
   },
   "outputs": [],
   "source": [
    "df_for_chi2_contingency = pd.crosstab(df_for_metrics.grp, df_for_metrics.purchase)"
   ]
  },
  {
   "cell_type": "code",
   "execution_count": 22,
   "metadata": {},
   "outputs": [],
   "source": [
    "stat, p, dof, expected = chi2_contingency(df_for_chi2_contingency)"
   ]
  },
  {
   "cell_type": "code",
   "execution_count": 23,
   "metadata": {},
   "outputs": [
    {
     "data": {
      "text/plain": [
       "(0.526607176998989,\n",
       " 0.46803677583199144,\n",
       " 1,\n",
       " array([[  72.06832373, 1462.93167627],\n",
       "        [ 318.93167627, 6474.06832373]]))"
      ]
     },
     "execution_count": 23,
     "metadata": {},
     "output_type": "execute_result"
    }
   ],
   "source": [
    "stat, p, dof, expected"
   ]
  },
  {
   "cell_type": "code",
   "execution_count": 24,
   "metadata": {},
   "outputs": [
    {
     "data": {
      "text/plain": [
       "0.46803677583199144"
      ]
     },
     "execution_count": 24,
     "metadata": {},
     "output_type": "execute_result"
    }
   ],
   "source": [
    "p"
   ]
  },
  {
   "cell_type": "markdown",
   "metadata": {},
   "source": [
    "p-value имеет значение 0.468.\n",
    "\n",
    "Это значит, что мы принимаем нулевую гипотезу о назависимости совершения покупок и нахождения в группе.\n",
    "\n",
    "__Вывод - новая механика оплаты услуг на сайте не влияет на конверсию, различие конверсии в группах не является статистически значимым.__"
   ]
  },
  {
   "cell_type": "code",
   "execution_count": 25,
   "metadata": {},
   "outputs": [],
   "source": [
    "# Аналогично можно сделать с помощью пакета pingouin\n",
    "import pingouin as pg\n",
    "expected, observed, stats = pg.chi2_independence(df_for_metrics, x='grp', y='purchase')"
   ]
  },
  {
   "cell_type": "code",
   "execution_count": 26,
   "metadata": {},
   "outputs": [
    {
     "data": {
      "text/html": [
       "<div>\n",
       "<style scoped>\n",
       "    .dataframe tbody tr th:only-of-type {\n",
       "        vertical-align: middle;\n",
       "    }\n",
       "\n",
       "    .dataframe tbody tr th {\n",
       "        vertical-align: top;\n",
       "    }\n",
       "\n",
       "    .dataframe thead th {\n",
       "        text-align: right;\n",
       "    }\n",
       "</style>\n",
       "<table border=\"1\" class=\"dataframe\">\n",
       "  <thead>\n",
       "    <tr style=\"text-align: right;\">\n",
       "      <th>purchase</th>\n",
       "      <th>buy</th>\n",
       "      <th>not_buy</th>\n",
       "    </tr>\n",
       "    <tr>\n",
       "      <th>grp</th>\n",
       "      <th></th>\n",
       "      <th></th>\n",
       "    </tr>\n",
       "  </thead>\n",
       "  <tbody>\n",
       "    <tr>\n",
       "      <th>A</th>\n",
       "      <td>72.068324</td>\n",
       "      <td>1462.931676</td>\n",
       "    </tr>\n",
       "    <tr>\n",
       "      <th>B</th>\n",
       "      <td>318.931676</td>\n",
       "      <td>6474.068324</td>\n",
       "    </tr>\n",
       "  </tbody>\n",
       "</table>\n",
       "</div>"
      ],
      "text/plain": [
       "purchase         buy      not_buy\n",
       "grp                              \n",
       "A          72.068324  1462.931676\n",
       "B         318.931676  6474.068324"
      ]
     },
     "execution_count": 26,
     "metadata": {},
     "output_type": "execute_result"
    }
   ],
   "source": [
    "expected"
   ]
  },
  {
   "cell_type": "code",
   "execution_count": 27,
   "metadata": {},
   "outputs": [
    {
     "data": {
      "text/html": [
       "<div>\n",
       "<style scoped>\n",
       "    .dataframe tbody tr th:only-of-type {\n",
       "        vertical-align: middle;\n",
       "    }\n",
       "\n",
       "    .dataframe tbody tr th {\n",
       "        vertical-align: top;\n",
       "    }\n",
       "\n",
       "    .dataframe thead th {\n",
       "        text-align: right;\n",
       "    }\n",
       "</style>\n",
       "<table border=\"1\" class=\"dataframe\">\n",
       "  <thead>\n",
       "    <tr style=\"text-align: right;\">\n",
       "      <th>purchase</th>\n",
       "      <th>buy</th>\n",
       "      <th>not_buy</th>\n",
       "    </tr>\n",
       "    <tr>\n",
       "      <th>grp</th>\n",
       "      <th></th>\n",
       "      <th></th>\n",
       "    </tr>\n",
       "  </thead>\n",
       "  <tbody>\n",
       "    <tr>\n",
       "      <th>A</th>\n",
       "      <td>77.5</td>\n",
       "      <td>1457.5</td>\n",
       "    </tr>\n",
       "    <tr>\n",
       "      <th>B</th>\n",
       "      <td>313.5</td>\n",
       "      <td>6479.5</td>\n",
       "    </tr>\n",
       "  </tbody>\n",
       "</table>\n",
       "</div>"
      ],
      "text/plain": [
       "purchase    buy  not_buy\n",
       "grp                     \n",
       "A          77.5   1457.5\n",
       "B         313.5   6479.5"
      ]
     },
     "execution_count": 27,
     "metadata": {},
     "output_type": "execute_result"
    }
   ],
   "source": [
    "observed"
   ]
  },
  {
   "cell_type": "code",
   "execution_count": 28,
   "metadata": {},
   "outputs": [
    {
     "data": {
      "text/html": [
       "<div>\n",
       "<style scoped>\n",
       "    .dataframe tbody tr th:only-of-type {\n",
       "        vertical-align: middle;\n",
       "    }\n",
       "\n",
       "    .dataframe tbody tr th {\n",
       "        vertical-align: top;\n",
       "    }\n",
       "\n",
       "    .dataframe thead th {\n",
       "        text-align: right;\n",
       "    }\n",
       "</style>\n",
       "<table border=\"1\" class=\"dataframe\">\n",
       "  <thead>\n",
       "    <tr style=\"text-align: right;\">\n",
       "      <th></th>\n",
       "      <th>test</th>\n",
       "      <th>lambda</th>\n",
       "      <th>chi2</th>\n",
       "      <th>dof</th>\n",
       "      <th>pval</th>\n",
       "      <th>cramer</th>\n",
       "      <th>power</th>\n",
       "    </tr>\n",
       "  </thead>\n",
       "  <tbody>\n",
       "    <tr>\n",
       "      <th>0</th>\n",
       "      <td>pearson</td>\n",
       "      <td>1.000000</td>\n",
       "      <td>0.526607</td>\n",
       "      <td>1.0</td>\n",
       "      <td>0.468037</td>\n",
       "      <td>0.007952</td>\n",
       "      <td>0.112168</td>\n",
       "    </tr>\n",
       "    <tr>\n",
       "      <th>1</th>\n",
       "      <td>cressie-read</td>\n",
       "      <td>0.666667</td>\n",
       "      <td>0.523446</td>\n",
       "      <td>1.0</td>\n",
       "      <td>0.469375</td>\n",
       "      <td>0.007928</td>\n",
       "      <td>0.111786</td>\n",
       "    </tr>\n",
       "    <tr>\n",
       "      <th>2</th>\n",
       "      <td>log-likelihood</td>\n",
       "      <td>0.000000</td>\n",
       "      <td>0.517247</td>\n",
       "      <td>1.0</td>\n",
       "      <td>0.472019</td>\n",
       "      <td>0.007881</td>\n",
       "      <td>0.111037</td>\n",
       "    </tr>\n",
       "    <tr>\n",
       "      <th>3</th>\n",
       "      <td>freeman-tukey</td>\n",
       "      <td>-0.500000</td>\n",
       "      <td>0.512702</td>\n",
       "      <td>1.0</td>\n",
       "      <td>0.473971</td>\n",
       "      <td>0.007846</td>\n",
       "      <td>0.110488</td>\n",
       "    </tr>\n",
       "    <tr>\n",
       "      <th>4</th>\n",
       "      <td>mod-log-likelihood</td>\n",
       "      <td>-1.000000</td>\n",
       "      <td>0.508246</td>\n",
       "      <td>1.0</td>\n",
       "      <td>0.475899</td>\n",
       "      <td>0.007812</td>\n",
       "      <td>0.109950</td>\n",
       "    </tr>\n",
       "    <tr>\n",
       "      <th>5</th>\n",
       "      <td>neyman</td>\n",
       "      <td>-2.000000</td>\n",
       "      <td>0.499590</td>\n",
       "      <td>1.0</td>\n",
       "      <td>0.479680</td>\n",
       "      <td>0.007745</td>\n",
       "      <td>0.108905</td>\n",
       "    </tr>\n",
       "  </tbody>\n",
       "</table>\n",
       "</div>"
      ],
      "text/plain": [
       "                 test    lambda      chi2  dof      pval    cramer     power\n",
       "0             pearson  1.000000  0.526607  1.0  0.468037  0.007952  0.112168\n",
       "1        cressie-read  0.666667  0.523446  1.0  0.469375  0.007928  0.111786\n",
       "2      log-likelihood  0.000000  0.517247  1.0  0.472019  0.007881  0.111037\n",
       "3       freeman-tukey -0.500000  0.512702  1.0  0.473971  0.007846  0.110488\n",
       "4  mod-log-likelihood -1.000000  0.508246  1.0  0.475899  0.007812  0.109950\n",
       "5              neyman -2.000000  0.499590  1.0  0.479680  0.007745  0.108905"
      ]
     },
     "execution_count": 28,
     "metadata": {},
     "output_type": "execute_result"
    },
    {
     "name": "stderr",
     "output_type": "stream",
     "text": [
      "/opt/tljh/user/lib/python3.7/site-packages/outdated/utils.py:18: OutdatedCacheFailedWarning: Failed to use cache while checking for outdated package.\n",
      "Set the environment variable OUTDATED_RAISE_EXCEPTION=1 for a full traceback.\n",
      "Set the environment variable OUTDATED_IGNORE=1 to disable these warnings.\n",
      "  **kwargs\n",
      "/opt/tljh/user/lib/python3.7/site-packages/outdated/utils.py:18: OutdatedPackageWarning: The package pingouin is out of date. Your version is 0.4.0, the latest is 0.5.2.\n",
      "Set the environment variable OUTDATED_IGNORE=1 to disable these warnings.\n",
      "  **kwargs\n"
     ]
    }
   ],
   "source": [
    "stats"
   ]
  },
  {
   "cell_type": "markdown",
   "metadata": {},
   "source": [
    "-------------------"
   ]
  },
  {
   "cell_type": "markdown",
   "metadata": {},
   "source": [
    "Далее посмотрим, как влияет способ оплаты на средний размер покупки у платящего пользователя ARPPU"
   ]
  },
  {
   "cell_type": "code",
   "execution_count": 29,
   "metadata": {},
   "outputs": [],
   "source": [
    "#  В отдельный df отберем пользователей, которые совершили покупку\n",
    "# А – контроль, B – целевая группа\n",
    "df_A_B = df_for_metrics[df_for_metrics.purchase == 'buy']"
   ]
  },
  {
   "cell_type": "code",
   "execution_count": 30,
   "metadata": {
    "scrolled": true
   },
   "outputs": [
    {
     "data": {
      "text/plain": [
       "<matplotlib.axes._subplots.AxesSubplot at 0x7fece56497f0>"
      ]
     },
     "execution_count": 30,
     "metadata": {},
     "output_type": "execute_result"
    },
    {
     "data": {
      "image/png": "[encoded data removed]",
      "text/plain": [
       "<Figure size 432x288 with 1 Axes>"
      ]
     },
     "metadata": {},
     "output_type": "display_data"
    }
   ],
   "source": [
    "sns.boxplot(x=\"grp\", y=\"rev\", data=df_A_B)"
   ]
  },
  {
   "cell_type": "code",
   "execution_count": 31,
   "metadata": {},
   "outputs": [],
   "source": [
    "#  В отдельные df отберем пользователей из группы А и группы В, которые совершили покупку.\n",
    "df_A = df_for_metrics[(df_for_metrics.grp == 'A') & (df_for_metrics.purchase == 'buy')]\n",
    "df_B = df_for_metrics[(df_for_metrics.grp == 'B') & (df_for_metrics.purchase == 'buy')]"
   ]
  },
  {
   "cell_type": "code",
   "execution_count": 32,
   "metadata": {
    "scrolled": true
   },
   "outputs": [
    {
     "data": {
      "text/plain": [
       "count      78.000000\n",
       "mean      933.589744\n",
       "std       919.932711\n",
       "min       199.000000\n",
       "25%       290.000000\n",
       "50%       585.000000\n",
       "75%      1114.750000\n",
       "max      3660.000000\n",
       "Name: rev, dtype: float64"
      ]
     },
     "execution_count": 32,
     "metadata": {},
     "output_type": "execute_result"
    }
   ],
   "source": [
    "df_A.rev.describe()"
   ]
  },
  {
   "cell_type": "code",
   "execution_count": 33,
   "metadata": {
    "scrolled": true
   },
   "outputs": [
    {
     "data": {
      "text/plain": [
       "count     313.000000\n",
       "mean     1255.827487\n",
       "std       791.293377\n",
       "min       199.000000\n",
       "25%       489.000000\n",
       "50%      1140.000000\n",
       "75%      1900.000000\n",
       "max      4650.000000\n",
       "Name: rev, dtype: float64"
      ]
     },
     "execution_count": 33,
     "metadata": {},
     "output_type": "execute_result"
    }
   ],
   "source": [
    "df_B.rev.describe()"
   ]
  },
  {
   "cell_type": "code",
   "execution_count": 34,
   "metadata": {
    "scrolled": true
   },
   "outputs": [
    {
     "data": {
      "text/html": [
       "<div>\n",
       "<style scoped>\n",
       "    .dataframe tbody tr th:only-of-type {\n",
       "        vertical-align: middle;\n",
       "    }\n",
       "\n",
       "    .dataframe tbody tr th {\n",
       "        vertical-align: top;\n",
       "    }\n",
       "\n",
       "    .dataframe thead th {\n",
       "        text-align: right;\n",
       "    }\n",
       "</style>\n",
       "<table border=\"1\" class=\"dataframe\">\n",
       "  <thead>\n",
       "    <tr style=\"text-align: right;\">\n",
       "      <th></th>\n",
       "      <th>mean</th>\n",
       "      <th>median</th>\n",
       "    </tr>\n",
       "    <tr>\n",
       "      <th>grp</th>\n",
       "      <th></th>\n",
       "      <th></th>\n",
       "    </tr>\n",
       "  </thead>\n",
       "  <tbody>\n",
       "    <tr>\n",
       "      <th>A</th>\n",
       "      <td>933.589744</td>\n",
       "      <td>585.0</td>\n",
       "    </tr>\n",
       "    <tr>\n",
       "      <th>B</th>\n",
       "      <td>1255.827487</td>\n",
       "      <td>1140.0</td>\n",
       "    </tr>\n",
       "  </tbody>\n",
       "</table>\n",
       "</div>"
      ],
      "text/plain": [
       "            mean  median\n",
       "grp                     \n",
       "A     933.589744   585.0\n",
       "B    1255.827487  1140.0"
      ]
     },
     "execution_count": 34,
     "metadata": {},
     "output_type": "execute_result"
    }
   ],
   "source": [
    "df_A_B.groupby('grp').rev.agg(['mean', 'median'])"
   ]
  },
  {
   "cell_type": "markdown",
   "metadata": {},
   "source": [
    "--------------\n",
    "Посмотрим на гистограммы распредлений величины чеков в контрольной и тестовой группе"
   ]
  },
  {
   "cell_type": "code",
   "execution_count": 35,
   "metadata": {
    "scrolled": true
   },
   "outputs": [
    {
     "data": {
      "text/plain": [
       "<matplotlib.axes._subplots.AxesSubplot at 0x7fece4ac6390>"
      ]
     },
     "execution_count": 35,
     "metadata": {},
     "output_type": "execute_result"
    },
    {
     "data": {
      "image/png": "[encoded data removed]",
      "text/plain": [
       "<Figure size 432x288 with 1 Axes>"
      ]
     },
     "metadata": {},
     "output_type": "display_data"
    }
   ],
   "source": [
    "sns.histplot(data=df_A, x='rev', color='b', bins=30)"
   ]
  },
  {
   "cell_type": "code",
   "execution_count": 36,
   "metadata": {
    "scrolled": false
   },
   "outputs": [
    {
     "data": {
      "text/plain": [
       "<matplotlib.axes._subplots.AxesSubplot at 0x7fece4ac65c0>"
      ]
     },
     "execution_count": 36,
     "metadata": {},
     "output_type": "execute_result"
    },
    {
     "data": {
      "image/png": "[encoded data removed]",
      "text/plain": [
       "<Figure size 432x288 with 1 Axes>"
      ]
     },
     "metadata": {},
     "output_type": "display_data"
    }
   ],
   "source": [
    "sns.histplot(data=df_B, x='rev', color='r', bins=30)"
   ]
  },
  {
   "cell_type": "markdown",
   "metadata": {},
   "source": [
    "------\n",
    "Гистограммы чеков не похожи на гистограммы нормальных распределений.\n",
    "\n",
    "Проверим распределения на нормальность с помощью теста Шапиро-Уилка."
   ]
  },
  {
   "cell_type": "code",
   "execution_count": 39,
   "metadata": {},
   "outputs": [
    {
     "data": {
      "text/plain": [
       "ShapiroResult(statistic=0.7353236079216003, pvalue=1.4986822893803264e-10)"
      ]
     },
     "execution_count": 39,
     "metadata": {},
     "output_type": "execute_result"
    }
   ],
   "source": [
    "shapiro(df_A.rev)"
   ]
  },
  {
   "cell_type": "code",
   "execution_count": 40,
   "metadata": {},
   "outputs": [
    {
     "data": {
      "text/plain": [
       "ShapiroResult(statistic=0.8551987409591675, pvalue=1.756778758085431e-16)"
      ]
     },
     "execution_count": 40,
     "metadata": {},
     "output_type": "execute_result"
    }
   ],
   "source": [
    "shapiro(df_B.rev)"
   ]
  },
  {
   "cell_type": "code",
   "execution_count": 43,
   "metadata": {},
   "outputs": [
    {
     "data": {
      "text/html": [
       "<div>\n",
       "<style scoped>\n",
       "    .dataframe tbody tr th:only-of-type {\n",
       "        vertical-align: middle;\n",
       "    }\n",
       "\n",
       "    .dataframe tbody tr th {\n",
       "        vertical-align: top;\n",
       "    }\n",
       "\n",
       "    .dataframe thead th {\n",
       "        text-align: right;\n",
       "    }\n",
       "</style>\n",
       "<table border=\"1\" class=\"dataframe\">\n",
       "  <thead>\n",
       "    <tr style=\"text-align: right;\">\n",
       "      <th></th>\n",
       "      <th>W</th>\n",
       "      <th>pval</th>\n",
       "      <th>normal</th>\n",
       "    </tr>\n",
       "  </thead>\n",
       "  <tbody>\n",
       "    <tr>\n",
       "      <th>rev</th>\n",
       "      <td>0.735324</td>\n",
       "      <td>1.498682e-10</td>\n",
       "      <td>False</td>\n",
       "    </tr>\n",
       "  </tbody>\n",
       "</table>\n",
       "</div>"
      ],
      "text/plain": [
       "            W          pval  normal\n",
       "rev  0.735324  1.498682e-10   False"
      ]
     },
     "execution_count": 43,
     "metadata": {},
     "output_type": "execute_result"
    }
   ],
   "source": [
    "pg.normality(df_A.rev)"
   ]
  },
  {
   "cell_type": "code",
   "execution_count": 44,
   "metadata": {},
   "outputs": [
    {
     "data": {
      "text/html": [
       "<div>\n",
       "<style scoped>\n",
       "    .dataframe tbody tr th:only-of-type {\n",
       "        vertical-align: middle;\n",
       "    }\n",
       "\n",
       "    .dataframe tbody tr th {\n",
       "        vertical-align: top;\n",
       "    }\n",
       "\n",
       "    .dataframe thead th {\n",
       "        text-align: right;\n",
       "    }\n",
       "</style>\n",
       "<table border=\"1\" class=\"dataframe\">\n",
       "  <thead>\n",
       "    <tr style=\"text-align: right;\">\n",
       "      <th></th>\n",
       "      <th>W</th>\n",
       "      <th>pval</th>\n",
       "      <th>normal</th>\n",
       "    </tr>\n",
       "  </thead>\n",
       "  <tbody>\n",
       "    <tr>\n",
       "      <th>rev</th>\n",
       "      <td>0.855199</td>\n",
       "      <td>1.756779e-16</td>\n",
       "      <td>False</td>\n",
       "    </tr>\n",
       "  </tbody>\n",
       "</table>\n",
       "</div>"
      ],
      "text/plain": [
       "            W          pval  normal\n",
       "rev  0.855199  1.756779e-16   False"
      ]
     },
     "execution_count": 44,
     "metadata": {},
     "output_type": "execute_result"
    }
   ],
   "source": [
    "pg.normality(df_B.rev)"
   ]
  },
  {
   "cell_type": "markdown",
   "metadata": {},
   "source": [
    "-----\n",
    "p-value проведенных тестов меньше 0.05. Это показываем показывает нам, что мы отклоняем гипотезу о том, что распределения чеков являются нормальными.\n",
    "\n",
    "Соответственно нельзя применять t test для проверки гипотезы о равенстве средних.\n",
    "\n",
    "Гипотезу равенстве средний чеков в группах мы будем проверять с помощью метода bootstrap.\n",
    "\n",
    "----"
   ]
  },
  {
   "cell_type": "code",
   "execution_count": 47,
   "metadata": {},
   "outputs": [],
   "source": [
    "# Функцию бутстрап я взял из соответствующего урока\n",
    "def get_bootstrap(\n",
    "    data_column_1,  # числовые значения первой выборки\n",
    "    data_column_2,  # числовые значения второй выборки\n",
    "    boot_it=1000,  # количество бутстрэп-подвыборок\n",
    "    statistic=np.mean,  # интересующая нас статистика\n",
    "    bootstrap_conf_level=0.95  # уровень значимости\n",
    "):\n",
    "    boot_len = max([len(data_column_1), len(data_column_2)])\n",
    "    boot_data = []\n",
    "    for i in tqdm(range(boot_it)):  # извлекаем подвыборки\n",
    "        samples_1 = data_column_1.sample(\n",
    "            boot_len, \n",
    "            replace=True  # параметр возвращения\n",
    "        ).values\n",
    "        \n",
    "        samples_2 = data_column_2.sample(\n",
    "            boot_len,  # чтобы сохранить дисперсию, берем такой же размер выборки\n",
    "            replace=True\n",
    "        ).values\n",
    "        \n",
    "        boot_data.append(statistic(samples_1 - samples_2)) \n",
    "    pd_boot_data = pd.DataFrame(boot_data)\n",
    "        \n",
    "    left_quant = (1 - bootstrap_conf_level) / 2\n",
    "    right_quant = 1 - (1 - bootstrap_conf_level) / 2\n",
    "    quants = pd_boot_data.quantile([left_quant, right_quant])\n",
    "        \n",
    "    p_1 = norm.cdf(\n",
    "        x=0, \n",
    "        loc=np.mean(boot_data), \n",
    "        scale=np.std(boot_data)\n",
    "    )\n",
    "    p_2 = norm.cdf(\n",
    "        x=0, \n",
    "        loc=-np.mean(boot_data), \n",
    "        scale=np.std(boot_data)\n",
    "    )\n",
    "    p_value = min(p_1, p_2) * 2\n",
    "        \n",
    "    # Визуализация\n",
    "    plt.hist(pd_boot_data[0], bins=50)\n",
    "    \n",
    "    plt.style.use('ggplot')\n",
    "    plt.vlines(quants, ymin=0, ymax=50, linestyle='--')\n",
    "    plt.xlabel('boot_data')\n",
    "    plt.ylabel('frequency')\n",
    "    plt.title(\"Histogram of boot_data\")\n",
    "    plt.show()\n",
    "       \n",
    "    return {  # \"boot_data\": boot_data, \n",
    "        \"quants\": quants,\n",
    "        \"p_value\": p_value}"
   ]
  },
  {
   "cell_type": "code",
   "execution_count": 48,
   "metadata": {},
   "outputs": [
    {
     "data": {
      "application/vnd.jupyter.widget-view+json": {
       "model_id": "354730f57243405c863c46710ecf730f",
       "version_major": 2,
       "version_minor": 0
      },
      "text/plain": [
       "HBox(children=(FloatProgress(value=0.0, max=1000.0), HTML(value='')))"
      ]
     },
     "metadata": {},
     "output_type": "display_data"
    },
    {
     "name": "stdout",
     "output_type": "stream",
     "text": [
      "\n"
     ]
    },
    {
     "data": {
      "image/png": "[encoded data removed]",
      "text/plain": [
       "<Figure size 432x288 with 1 Axes>"
      ]
     },
     "metadata": {},
     "output_type": "display_data"
    },
    {
     "data": {
      "text/plain": [
       "{'quants':                 0\n",
       " 0.025 -451.616068\n",
       " 0.975 -192.156560,\n",
       " 'p_value': 2.690784321041717e-06}"
      ]
     },
     "execution_count": 48,
     "metadata": {},
     "output_type": "execute_result"
    }
   ],
   "source": [
    "get_bootstrap(\n",
    "    df_A.rev,  # числовые значения первой выборки\n",
    "    df_B.rev,  # числовые значения второй выборки\n",
    "    boot_it=1000,  # количество бутстрэп-подвыборок\n",
    "    statistic=np.mean,  # интересующая нас статистика\n",
    "    bootstrap_conf_level=0.95  # уровень значимости\n",
    ")"
   ]
  },
  {
   "cell_type": "markdown",
   "metadata": {},
   "source": [
    "__p_value < 0.05__\n",
    "\n",
    "__0__ не попадает в доверительный интервал.\n",
    "\n",
    "Мы отклоняем нулевую гипотезу о равенстве средних чеков у платящих пользователей в группах. Различия являются статистически значимыми.\n",
    "\n",
    "__Вывод - запуск новой механики приводит увеличению ARPPU. Новую механику оплаты можно раскатать на всех пользователей__\n",
    "\n",
    "--------------------"
   ]
  },
  {
   "cell_type": "code",
   "execution_count": 49,
   "metadata": {},
   "outputs": [
    {
     "data": {
      "text/plain": [
       "[78, 313]"
      ]
     },
     "execution_count": 49,
     "metadata": {},
     "output_type": "execute_result"
    }
   ],
   "source": [
    "[len(df_A.rev), len(df_B.rev)]"
   ]
  },
  {
   "cell_type": "code",
   "execution_count": 50,
   "metadata": {},
   "outputs": [
    {
     "name": "stdout",
     "output_type": "stream",
     "text": [
      "0.0\n"
     ]
    }
   ],
   "source": [
    "# А – контроль, B – целевая группа\n",
    "boot_data = []\n",
    "n = 10000\n",
    "for i in range(n):\n",
    "    samples_A = df_A.rev.sample(313, replace=True).values\n",
    "    samples_B = df_B.rev.sample(313, replace=True).values\n",
    "    boot_data.append(np.mean(samples_B-samples_A))\n",
    "p = (np.array(boot_data) <= 0).sum()*2/n\n",
    "print(p)"
   ]
  },
  {
   "cell_type": "code",
   "execution_count": 51,
   "metadata": {},
   "outputs": [
    {
     "data": {
      "text/plain": [
       "(array([1.000e+00, 2.000e+00, 1.500e+01, 1.400e+01, 3.800e+01, 4.400e+01,\n",
       "        1.090e+02, 2.010e+02, 3.040e+02, 4.450e+02, 6.350e+02, 7.990e+02,\n",
       "        9.220e+02, 1.094e+03, 1.067e+03, 1.049e+03, 9.440e+02, 7.630e+02,\n",
       "        5.960e+02, 3.850e+02, 2.390e+02, 1.660e+02, 9.200e+01, 4.300e+01,\n",
       "        2.200e+01, 6.000e+00, 3.000e+00, 1.000e+00, 0.000e+00, 1.000e+00]),\n",
       " array([ 49.08946613,  68.07114889,  87.05283165, 106.03451441,\n",
       "        125.01619717, 143.99787993, 162.97956268, 181.96124544,\n",
       "        200.9429282 , 219.92461096, 238.90629372, 257.88797647,\n",
       "        276.86965923, 295.85134199, 314.83302475, 333.81470751,\n",
       "        352.79639027, 371.77807302, 390.75975578, 409.74143854,\n",
       "        428.7231213 , 447.70480406, 466.68648682, 485.66816957,\n",
       "        504.64985233, 523.63153509, 542.61321785, 561.59490061,\n",
       "        580.57658337, 599.55826612, 618.53994888]),\n",
       " <a list of 30 Patch objects>)"
      ]
     },
     "execution_count": 51,
     "metadata": {},
     "output_type": "execute_result"
    },
    {
     "data": {
      "image/png": "[encoded data removed]",
      "text/plain": [
       "<Figure size 432x288 with 1 Axes>"
      ]
     },
     "metadata": {},
     "output_type": "display_data"
    }
   ],
   "source": [
    "plt.hist(boot_data, bins=30)"
   ]
  },
  {
   "cell_type": "code",
   "execution_count": 52,
   "metadata": {},
   "outputs": [
    {
     "data": {
      "text/plain": [
       "array([185.08068045, 455.45983887])"
      ]
     },
     "execution_count": 52,
     "metadata": {},
     "output_type": "execute_result"
    }
   ],
   "source": [
    "np.percentile(np.array(boot_data),[2.5, 97.5])"
   ]
  },
  {
   "cell_type": "code",
   "execution_count": 53,
   "metadata": {},
   "outputs": [
    {
     "data": {
      "text/plain": [
       "1.6810076876173544e-06"
      ]
     },
     "execution_count": 53,
     "metadata": {},
     "output_type": "execute_result"
    }
   ],
   "source": [
    "norm.cdf(x=0, loc=np.mean(boot_data), scale=np.std(boot_data))"
   ]
  },
  {
   "cell_type": "markdown",
   "metadata": {},
   "source": [
    "## Задание 2"
   ]
  },
  {
   "cell_type": "code",
   "execution_count": 54,
   "metadata": {},
   "outputs": [],
   "source": [
    "import pandahouse as ph\n",
    "import pandas as pd"
   ]
  },
  {
   "cell_type": "code",
   "execution_count": 55,
   "metadata": {},
   "outputs": [],
   "source": [
    "# user и password были удалены\n",
    "connection = dict(database='test',\n",
    "                  host='https://clickhouse.lab.karpov.courses',\n",
    "                  user='*****',\n",
    "                  password='*****')"
   ]
  },
  {
   "cell_type": "markdown",
   "metadata": {},
   "source": [
    "### 2.1 Очень усердные ученики"
   ]
  },
  {
   "cell_type": "code",
   "execution_count": 56,
   "metadata": {},
   "outputs": [
    {
     "data": {
      "text/html": [
       "<div>\n",
       "<style scoped>\n",
       "    .dataframe tbody tr th:only-of-type {\n",
       "        vertical-align: middle;\n",
       "    }\n",
       "\n",
       "    .dataframe tbody tr th {\n",
       "        vertical-align: top;\n",
       "    }\n",
       "\n",
       "    .dataframe thead th {\n",
       "        text-align: right;\n",
       "    }\n",
       "</style>\n",
       "<table border=\"1\" class=\"dataframe\">\n",
       "  <thead>\n",
       "    <tr style=\"text-align: right;\">\n",
       "      <th></th>\n",
       "      <th>successful_students</th>\n",
       "    </tr>\n",
       "  </thead>\n",
       "  <tbody>\n",
       "    <tr>\n",
       "      <th>0</th>\n",
       "      <td>0</td>\n",
       "    </tr>\n",
       "  </tbody>\n",
       "</table>\n",
       "</div>"
      ],
      "text/plain": [
       "   successful_students\n",
       "0                    0"
      ]
     },
     "execution_count": 56,
     "metadata": {},
     "output_type": "execute_result"
    }
   ],
   "source": [
    "# Запрос для clickhouse\n",
    "query_2_1 = \"\"\"\n",
    "SELECT COUNT(st_id) as successful_students\n",
    "FROM\n",
    "    (SELECT st_id, COUNT(st_id) as num, toStartOfMonth(timest) as month\n",
    "    FROM default.peas\n",
    "    WHERE correct = 1 AND month = '2020-03-01'\n",
    "    GROUP BY st_id, month)\n",
    "WHERE num >= 20\n",
    "\"\"\"\n",
    "df = ph.read_clickhouse(query_2_1, connection=connection)\n",
    "df"
   ]
  },
  {
   "cell_type": "code",
   "execution_count": 57,
   "metadata": {},
   "outputs": [
    {
     "data": {
      "text/plain": [
       "\"\\nSELECT COUNT(t.st_id) as successful_students\\nFROM\\n    (SELECT st_id, COUNT(st_id) as num, to_char(timest, 'YYYY-MM') as month\\n    FROM peas\\n    WHERE correct = 1 and to_char(timest, 'YYYY-MM')='2022-03'\\n    GROUP BY st_id, month) t\\nWHERE t.num >= 20 \\n\""
      ]
     },
     "execution_count": 57,
     "metadata": {},
     "output_type": "execute_result"
    }
   ],
   "source": [
    "# Запрос для Postgresql\n",
    "\n",
    "'''\n",
    "SELECT COUNT(t.st_id) as successful_students\n",
    "FROM\n",
    "    (SELECT st_id, COUNT(st_id) as num, to_char(timest, 'YYYY-MM') as month\n",
    "    FROM peas\n",
    "    WHERE correct = 1 and to_char(timest, 'YYYY-MM')='2022-03'\n",
    "    GROUP BY st_id, month) t\n",
    "WHERE t.num >= 20 \n",
    "'''"
   ]
  },
  {
   "cell_type": "markdown",
   "metadata": {},
   "source": [
    "### 2.2 Оптимизация воронки"
   ]
  },
  {
   "cell_type": "code",
   "execution_count": 58,
   "metadata": {},
   "outputs": [
    {
     "data": {
      "text/plain": [
       "\"\\nSELECT test_grp,\\n        SUM(revenue)/count(st_id) AS ARPU,\\n        SUM(revenue*active)/sum(active) as ARPAU,\\n        CAST(SUM(made_purchase) AS decimal)/CAST(count(st_id) AS decimal) as CR,\\n        CAST(SUM(made_purchase*active) AS decimal)/CAST(sum(active) AS decimal) as CR_active,\\n        CAST(SUM(made_purchase_math*active_in_math) AS decimal)/CAST(sum(active_in_math) AS decimal) as CR_active_in_math\\nFROM (\\n    SELECT st.st_id,\\n         st.test_grp,\\n         CASE WHEN made_purchase.revenue is null THEN 0 ELSE made_purchase.revenue END as revenue,\\n         CASE WHEN active.active is null THEN 0 ELSE 1 END AS active,\\n         CASE WHEN active_in_math.active_in_math is null THEN 0 ELSE 1 END AS active_in_math,\\n         CASE WHEN made_purchase.made_purchase is null THEN 0 ELSE 1 END AS made_purchase,\\n         CASE WHEN made_purchase_math.made_purchase_math is null THEN 0 ELSE 1 END AS made_purchase_math\\n    FROM studs as st\\n    LEFT JOIN (SELECT DISTINCT st_id as active\\n                FROM peas\\n                GROUP BY st_id, to_char(timest, 'YYYY-MM')\\n                HAVING SUM(correct) >=20) as active ON st.st_id=active.active\\n    LEFT JOIN (SELECT DISTINCT st_id as active_in_math\\n                FROM peas\\n                WHERE subject='math'\\n                GROUP BY st_id, to_char(timest, 'YYYY-MM')\\n                HAVING SUM(correct) >=20) as active_in_math ON st.st_id=active_in_math.active_in_math\\n    LEFT JOIN (SELECT st_id as made_purchase, SUM(money) AS revenue \\n                FROM checks GROUP BY st_id) as made_purchase ON st.st_id=made_purchase.made_purchase\\n    LEFT JOIN (SELECT DISTINCT st_id as made_purchase_math\\n                FROM checks\\n                WHERE subject='math') as made_purchase_math ON st.st_id=made_purchase_math.made_purchase_math\\n        ) as t\\nGROUP BY test_grp\\n\""
      ]
     },
     "execution_count": 58,
     "metadata": {},
     "output_type": "execute_result"
    }
   ],
   "source": [
    "# в clickhouse на сайте clickhouse.lab.karpov.courses отсутстуют необходимые таблицы.\n",
    "\n",
    "# Запрос для Postgresql\n",
    "'''\n",
    "SELECT test_grp,\n",
    "        SUM(revenue)/count(st_id) AS ARPU,\n",
    "        SUM(revenue*active)/sum(active) as ARPAU,\n",
    "        CAST(SUM(made_purchase) AS decimal)/CAST(count(st_id) AS decimal) as CR,\n",
    "        CAST(SUM(made_purchase*active) AS decimal)/CAST(sum(active) AS decimal) as CR_active,\n",
    "        CAST(SUM(made_purchase_math*active_in_math) AS decimal)/CAST(sum(active_in_math) AS decimal) as CR_active_in_math\n",
    "FROM (\n",
    "    SELECT st.st_id,\n",
    "         st.test_grp,\n",
    "         CASE WHEN made_purchase.revenue is null THEN 0 ELSE made_purchase.revenue END as revenue,\n",
    "         CASE WHEN active.active is null THEN 0 ELSE 1 END AS active,\n",
    "         CASE WHEN active_in_math.active_in_math is null THEN 0 ELSE 1 END AS active_in_math,\n",
    "         CASE WHEN made_purchase.made_purchase is null THEN 0 ELSE 1 END AS made_purchase,\n",
    "         CASE WHEN made_purchase_math.made_purchase_math is null THEN 0 ELSE 1 END AS made_purchase_math\n",
    "    FROM studs as st\n",
    "    LEFT JOIN (SELECT DISTINCT st_id as active\n",
    "                FROM peas\n",
    "                GROUP BY st_id, to_char(timest, 'YYYY-MM')\n",
    "                HAVING SUM(correct) >=20) as active ON st.st_id=active.active\n",
    "    LEFT JOIN (SELECT DISTINCT st_id as active_in_math\n",
    "                FROM peas\n",
    "                WHERE subject='math'\n",
    "                GROUP BY st_id, to_char(timest, 'YYYY-MM')\n",
    "                HAVING SUM(correct) >=20) as active_in_math ON st.st_id=active_in_math.active_in_math\n",
    "    LEFT JOIN (SELECT st_id as made_purchase, SUM(money) AS revenue \n",
    "                FROM checks GROUP BY st_id) as made_purchase ON st.st_id=made_purchase.made_purchase\n",
    "    LEFT JOIN (SELECT DISTINCT st_id as made_purchase_math\n",
    "                FROM checks\n",
    "                WHERE subject='math') as made_purchase_math ON st.st_id=made_purchase_math.made_purchase_math\n",
    "        ) as t\n",
    "GROUP BY test_grp\n",
    "'''"
   ]
  },
  {
   "cell_type": "code",
   "execution_count": 59,
   "metadata": {},
   "outputs": [
    {
     "data": {
      "text/html": [
       "<div>\n",
       "<style scoped>\n",
       "    .dataframe tbody tr th:only-of-type {\n",
       "        vertical-align: middle;\n",
       "    }\n",
       "\n",
       "    .dataframe tbody tr th {\n",
       "        vertical-align: top;\n",
       "    }\n",
       "\n",
       "    .dataframe thead th {\n",
       "        text-align: right;\n",
       "    }\n",
       "</style>\n",
       "<table border=\"1\" class=\"dataframe\">\n",
       "  <thead>\n",
       "    <tr style=\"text-align: right;\">\n",
       "      <th></th>\n",
       "      <th>test_grp</th>\n",
       "      <th>ARPU</th>\n",
       "      <th>ARPAU</th>\n",
       "      <th>CR</th>\n",
       "      <th>CR_active</th>\n",
       "      <th>CR_active_in_math</th>\n",
       "    </tr>\n",
       "  </thead>\n",
       "  <tbody>\n",
       "    <tr>\n",
       "      <th>0</th>\n",
       "      <td>new</td>\n",
       "      <td>127450.980392</td>\n",
       "      <td>127450.980392</td>\n",
       "      <td>1.0</td>\n",
       "      <td>1.0</td>\n",
       "      <td>1.0</td>\n",
       "    </tr>\n",
       "    <tr>\n",
       "      <th>1</th>\n",
       "      <td>old</td>\n",
       "      <td>140918.367347</td>\n",
       "      <td>140918.367347</td>\n",
       "      <td>1.0</td>\n",
       "      <td>1.0</td>\n",
       "      <td>1.0</td>\n",
       "    </tr>\n",
       "  </tbody>\n",
       "</table>\n",
       "</div>"
      ],
      "text/plain": [
       "  test_grp           ARPU          ARPAU   CR  CR_active  CR_active_in_math\n",
       "0      new  127450.980392  127450.980392  1.0        1.0                1.0\n",
       "1      old  140918.367347  140918.367347  1.0        1.0                1.0"
      ]
     },
     "execution_count": 59,
     "metadata": {},
     "output_type": "execute_result"
    }
   ],
   "source": [
    "# Запрос для clickhouse\n",
    "query_2_2 = '''\n",
    "SELECT test_grp,\n",
    "        SUM(revenue)/count(st_id) AS ARPU,\n",
    "        SUM(revenue*active)/sum(active) as ARPAU,\n",
    "        SUM(made_purchase)/count(st_id) as CR,\n",
    "        SUM(made_purchase*active)/sum(active) as CR_active,\n",
    "        SUM(made_purchase_math*active_in_math)/sum(active_in_math) as CR_active_in_math\n",
    "FROM (\n",
    "    SELECT st.st_id as st_id,\n",
    "        st.test_grp as test_grp,\n",
    "        CASE WHEN made_purchase.revenue is null THEN 0 ELSE made_purchase.revenue END as revenue,\n",
    "        CASE WHEN active.active is null THEN 0 ELSE 1 END AS active,\n",
    "        CASE WHEN active_in_math.active_in_math is null THEN 0 ELSE 1 END AS active_in_math,\n",
    "        CASE WHEN made_purchase.made_purchase is null THEN 0 ELSE 1 END AS made_purchase,\n",
    "        CASE WHEN made_purchase_math.made_purchase_math is null THEN 0 ELSE 1 END AS made_purchase_math\n",
    "    FROM studs as st\n",
    "    LEFT JOIN (SELECT DISTINCT st_id as active\n",
    "                FROM default.peas\n",
    "                GROUP BY st_id, toStartOfMonth(timest)\n",
    "                HAVING SUM(correct)>=20) as active ON st.st_id=active.active\n",
    "    LEFT JOIN (SELECT DISTINCT st_id as active_in_math\n",
    "                FROM default.peas\n",
    "                WHERE subject='math'\n",
    "                GROUP BY st_id, toStartOfMonth(timest)\n",
    "                HAVING SUM(correct) >=20) as active_in_math ON st.st_id=active_in_math.active_in_math\n",
    "    LEFT JOIN (SELECT st_id as made_purchase, SUM(money) AS revenue \n",
    "                FROM default.final_project_check GROUP BY st_id) as made_purchase ON st.st_id=made_purchase.made_purchase\n",
    "    LEFT JOIN (SELECT DISTINCT st_id as made_purchase_math\n",
    "                FROM default.final_project_check WHERE subject='Math') as made_purchase_math ON st.st_id=made_purchase_math.made_purchase_math\n",
    "    )\n",
    "GROUP BY test_grp\n",
    " \n",
    "'''\n",
    "df = ph.read_clickhouse(query_2_2, connection=connection)\n",
    "df"
   ]
  },
  {
   "cell_type": "code",
   "execution_count": 60,
   "metadata": {},
   "outputs": [
    {
     "data": {
      "text/plain": [
       "\"\\nSELECT test_grp,\\n        SUM(revenue)/count(st_id) AS ARPU,\\n        SUM(revenue*active)/sum(active) as ARPAU,\\n        SUM(made_purchase)/count(st_id) as CR,\\n        SUM(made_purchase*active)/sum(active) as CR_active,\\n        SUM(made_purchase_math*active_in_math)/sum(active_in_math) as CR_active_in_math\\nFROM (\\n    SELECT st.st_id as st_id,\\n        st.test_grp as test_grp,\\n        CASE WHEN made_purchase.revenue is null THEN 0 ELSE made_purchase.revenue END as revenue,\\n        CASE WHEN active.active is null THEN 0 ELSE 1 END AS active,\\n        CASE WHEN active_in_math.active_in_math is null THEN 0 ELSE 1 END AS active_in_math,\\n        CASE WHEN made_purchase.made_purchase is null THEN 0 ELSE 1 END AS made_purchase,\\n        CASE WHEN made_purchase_math.made_purchase_math is null THEN 0 ELSE 1 END AS made_purchase_math\\n    FROM studs as st\\n    LEFT JOIN (SELECT DISTINCT st_id as active\\n                FROM peas\\n                GROUP BY st_id, toStartOfMonth(timest)\\n                HAVING SUM(correct)>=20) as active ON st.st_id=active.active\\n    LEFT JOIN (SELECT DISTINCT st_id as active_in_math\\n                FROM peas\\n                WHERE subject='math'\\n                GROUP BY st_id, toStartOfMonth(timest)\\n                HAVING SUM(correct) >=20) as active_in_math ON st.st_id=active_in_math.active_in_math\\n    LEFT JOIN (SELECT st_id as made_purchase, SUM(money) AS revenue \\n                FROM checks GROUP BY st_id) as made_purchase ON st.st_id=made_purchase.made_purchase\\n    LEFT JOIN (SELECT DISTINCT st_id as made_purchase_math\\n                FROM checks WHERE subject='Math') as made_purchase_math ON st.st_id=made_purchase_math.made_purchase_math\\n    )\\nGROUP BY test_grp\\n \\n\""
      ]
     },
     "execution_count": 60,
     "metadata": {},
     "output_type": "execute_result"
    }
   ],
   "source": [
    "#  Запрос для clickhouse. Названия таблиц peas, studs, checks\n",
    "'''\n",
    "SELECT test_grp,\n",
    "        SUM(revenue)/count(st_id) AS ARPU,\n",
    "        SUM(revenue*active)/sum(active) as ARPAU,\n",
    "        SUM(made_purchase)/count(st_id) as CR,\n",
    "        SUM(made_purchase*active)/sum(active) as CR_active,\n",
    "        SUM(made_purchase_math*active_in_math)/sum(active_in_math) as CR_active_in_math\n",
    "FROM (\n",
    "    SELECT st.st_id as st_id,\n",
    "        st.test_grp as test_grp,\n",
    "        CASE WHEN made_purchase.revenue is null THEN 0 ELSE made_purchase.revenue END as revenue,\n",
    "        CASE WHEN active.active is null THEN 0 ELSE 1 END AS active,\n",
    "        CASE WHEN active_in_math.active_in_math is null THEN 0 ELSE 1 END AS active_in_math,\n",
    "        CASE WHEN made_purchase.made_purchase is null THEN 0 ELSE 1 END AS made_purchase,\n",
    "        CASE WHEN made_purchase_math.made_purchase_math is null THEN 0 ELSE 1 END AS made_purchase_math\n",
    "    FROM studs as st\n",
    "    LEFT JOIN (SELECT DISTINCT st_id as active\n",
    "                FROM peas\n",
    "                GROUP BY st_id, toStartOfMonth(timest)\n",
    "                HAVING SUM(correct)>=20) as active ON st.st_id=active.active\n",
    "    LEFT JOIN (SELECT DISTINCT st_id as active_in_math\n",
    "                FROM peas\n",
    "                WHERE subject='math'\n",
    "                GROUP BY st_id, toStartOfMonth(timest)\n",
    "                HAVING SUM(correct) >=20) as active_in_math ON st.st_id=active_in_math.active_in_math\n",
    "    LEFT JOIN (SELECT st_id as made_purchase, SUM(money) AS revenue \n",
    "                FROM checks GROUP BY st_id) as made_purchase ON st.st_id=made_purchase.made_purchase\n",
    "    LEFT JOIN (SELECT DISTINCT st_id as made_purchase_math\n",
    "                FROM checks WHERE subject='Math') as made_purchase_math ON st.st_id=made_purchase_math.made_purchase_math\n",
    "    )\n",
    "GROUP BY test_grp\n",
    " \n",
    "'''"
   ]
  },
  {
   "cell_type": "markdown",
   "metadata": {},
   "source": [
    "## Задание 3"
   ]
  },
  {
   "cell_type": "markdown",
   "metadata": {},
   "source": [
    "3.1 Задача\n",
    "\n",
    "Реализуйте функцию, которая будет автоматически подгружать информацию из дополнительного файла groups_add.csv (заголовки могут отличаться) и на основании дополнительных параметров пересчитывать метрики. \n",
    "\n",
    "Реализуйте функцию, которая будет строить графики по получаемым метрикам."
   ]
  },
  {
   "cell_type": "code",
   "execution_count": 61,
   "metadata": {},
   "outputs": [],
   "source": [
    "active_studs = pd.read_csv('Проект_2_active_studs.csv')\n",
    "checks = pd.read_csv('Проект_2_checks.csv', sep=';')\n",
    "groups = pd.read_csv('Проект_2_groups.csv', sep=';')\n",
    "group_add = pd.read_csv('Проект_2_group_add.csv')"
   ]
  },
  {
   "cell_type": "code",
   "execution_count": 62,
   "metadata": {},
   "outputs": [],
   "source": [
    "def recalculate_metrics(groups, group_add, active_studs, checks):\n",
    "    '''Пересчет основных метрик при добавлении новых данных о тестовой и контрольной группах'''\n",
    "    group_add.columns = groups.columns\n",
    "    groups = pd.concat([groups, group_add])\n",
    "    df_for_metrics = active_studs.merge(groups, left_on='student_id', right_on='id')[['id', 'grp']]\\\n",
    "        .merge(checks, how='left', left_on='id', right_on='student_id').drop(columns='student_id').fillna(0)\n",
    "    df_for_metrics['purchase'] = np.where(df_for_metrics.rev > 0, 1, 0)\n",
    "    metrics = df_for_metrics.groupby('grp', as_index=False) \\\n",
    "        .agg({'id': 'count', 'purchase': ['sum', 'mean'], 'rev': ['sum', 'mean']})\n",
    "    metrics.columns = ['grp', 'count_of_users', 'paying_users', 'cr', 'revenue', 'ARPU']\n",
    "    metrics['cr'] = metrics['cr'].mul(100)\n",
    "    metrics['ARPPU'] = metrics['revenue'] / metrics['paying_users']\n",
    "    return metrics"
   ]
  },
  {
   "cell_type": "code",
   "execution_count": 63,
   "metadata": {},
   "outputs": [],
   "source": [
    "recalculate_metrics = recalculate_metrics(groups, group_add, active_studs, checks)"
   ]
  },
  {
   "cell_type": "code",
   "execution_count": 64,
   "metadata": {},
   "outputs": [
    {
     "data": {
      "text/html": [
       "<div>\n",
       "<style scoped>\n",
       "    .dataframe tbody tr th:only-of-type {\n",
       "        vertical-align: middle;\n",
       "    }\n",
       "\n",
       "    .dataframe tbody tr th {\n",
       "        vertical-align: top;\n",
       "    }\n",
       "\n",
       "    .dataframe thead th {\n",
       "        text-align: right;\n",
       "    }\n",
       "</style>\n",
       "<table border=\"1\" class=\"dataframe\">\n",
       "  <thead>\n",
       "    <tr style=\"text-align: right;\">\n",
       "      <th></th>\n",
       "      <th>grp</th>\n",
       "      <th>count_of_users</th>\n",
       "      <th>paying_users</th>\n",
       "      <th>cr</th>\n",
       "      <th>revenue</th>\n",
       "      <th>ARPU</th>\n",
       "      <th>ARPPU</th>\n",
       "    </tr>\n",
       "  </thead>\n",
       "  <tbody>\n",
       "    <tr>\n",
       "      <th>0</th>\n",
       "      <td>A</td>\n",
       "      <td>1538</td>\n",
       "      <td>78</td>\n",
       "      <td>5.071521</td>\n",
       "      <td>72820.0000</td>\n",
       "      <td>47.347204</td>\n",
       "      <td>933.589744</td>\n",
       "    </tr>\n",
       "    <tr>\n",
       "      <th>1</th>\n",
       "      <td>B</td>\n",
       "      <td>6803</td>\n",
       "      <td>314</td>\n",
       "      <td>4.615611</td>\n",
       "      <td>394974.0035</td>\n",
       "      <td>58.058798</td>\n",
       "      <td>1257.878992</td>\n",
       "    </tr>\n",
       "  </tbody>\n",
       "</table>\n",
       "</div>"
      ],
      "text/plain": [
       "  grp  count_of_users  paying_users        cr      revenue       ARPU  \\\n",
       "0   A            1538            78  5.071521   72820.0000  47.347204   \n",
       "1   B            6803           314  4.615611  394974.0035  58.058798   \n",
       "\n",
       "         ARPPU  \n",
       "0   933.589744  \n",
       "1  1257.878992  "
      ]
     },
     "execution_count": 64,
     "metadata": {},
     "output_type": "execute_result"
    }
   ],
   "source": [
    "recalculate_metrics"
   ]
  },
  {
   "cell_type": "code",
   "execution_count": 65,
   "metadata": {},
   "outputs": [],
   "source": [
    "def print_metrics(metrics):\n",
    "    '''Построение графиков основных метрик'''\n",
    "    sns.barplot(x=\"grp\", y=\"cr\", data=metrics)\n",
    "    plt.title(\"CR\")\n",
    "    plt.xlabel(\"Группа\")\n",
    "    plt.ylabel(\"\")\n",
    "    plt.show()\n",
    "    sns.barplot(x=\"grp\", y=\"ARPU\", data=metrics)\n",
    "    plt.title(\"ARPU\")\n",
    "    plt.xlabel(\"Группа\")\n",
    "    plt.ylabel(\"\")\n",
    "    plt.show()\n",
    "    sns.barplot(x=\"grp\", y=\"ARPPU\", data=metrics)\n",
    "    plt.title(\"ARPPU\")\n",
    "    plt.xlabel(\"Группа\")\n",
    "    plt.ylabel(\"\")\n",
    "    plt.show()"
   ]
  },
  {
   "cell_type": "code",
   "execution_count": 66,
   "metadata": {},
   "outputs": [
    {
     "data": {
      "image/png": "[encoded data removed]",
      "text/plain": [
       "<Figure size 432x288 with 1 Axes>"
      ]
     },
     "metadata": {},
     "output_type": "display_data"
    },
    {
     "data": {
      "image/png": "[encoded data removed]",
      "text/plain": [
       "<Figure size 432x288 with 1 Axes>"
      ]
     },
     "metadata": {},
     "output_type": "display_data"
    },
    {
     "data": {
      "image/png": "[encoded data removed]",
      "text/plain": [
       "<Figure size 432x288 with 1 Axes>"
      ]
     },
     "metadata": {},
     "output_type": "display_data"
    }
   ],
   "source": [
    "print_metrics(recalculate_metrics)"
   ]
  },
  {
   "cell_type": "code",
   "execution_count": null,
   "metadata": {},
   "outputs": [],
   "source": []
  }
 ],
 "metadata": {
  "kernelspec": {
   "display_name": "Python 3 (ipykernel)",
   "language": "python",
   "name": "python3"
  },
  "language_info": {
   "codemirror_mode": {
    "name": "ipython",
    "version": 3
   },
   "file_extension": ".py",
   "mimetype": "text/x-python",
   "name": "python",
   "nbconvert_exporter": "python",
   "pygments_lexer": "ipython3",
   "version": "3.9.13"
  }
 },
 "nbformat": 4,
 "nbformat_minor": 4
}
